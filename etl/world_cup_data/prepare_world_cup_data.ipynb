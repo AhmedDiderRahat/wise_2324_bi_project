{
 "cells": [
  {
   "cell_type": "markdown",
   "id": "8c4483fd-47dd-4d39-a9da-2ce3698f4f86",
   "metadata": {},
   "source": [
    "# Prepare DWH Schema and Tables"
   ]
  },
  {
   "cell_type": "code",
   "execution_count": 274,
   "id": "6113e5e9-3240-4b92-891c-a4bccac15cd0",
   "metadata": {},
   "outputs": [],
   "source": [
    "import numpy as np\n",
    "import pandas as pd\n",
    "import csv"
   ]
  },
  {
   "cell_type": "markdown",
   "id": "82800d27-0f17-42f7-92cf-c3b2a4b51bd2",
   "metadata": {},
   "source": [
    "## Define Helper Functions"
   ]
  },
  {
   "cell_type": "code",
   "execution_count": 275,
   "id": "a5c40fb0-363b-41c0-b179-d080a47d0a7a",
   "metadata": {},
   "outputs": [],
   "source": [
    "# convert camel to snake\n",
    "def convert_to_snake_case(text: str) -> str:\n",
    "    text = text.strip()\n",
    "    return ''.join(['_' + s.lower() if (s.isupper() and i > 0 and text[i - 1] != ' ' and not text[i - 1].isupper()) \\\n",
    "                    else '_' if s == ' ' \\\n",
    "                    else s.lower() for i, s in enumerate(text)])\n",
    "\n",
    "# lower all string columns\n",
    "def lower_all_object_columns_of_df(df: pd.DataFrame):\n",
    "    string_columns = df.select_dtypes(include='object').columns\n",
    "    df[string_columns] = df[string_columns].apply(lambda x: x.str.lower())"
   ]
  },
  {
   "cell_type": "markdown",
   "id": "3199bd20-bf53-44fb-9763-53771b91e1ae",
   "metadata": {},
   "source": [
    "## Load Data"
   ]
  },
  {
   "cell_type": "code",
   "execution_count": 276,
   "id": "2dc7193c-fb89-499c-9be3-57df8279bbfc",
   "metadata": {},
   "outputs": [],
   "source": [
    "world_cup_players = pd.read_csv(\"../../data/input_data/world_cup_players.csv\",\n",
    "                            usecols=['MatchID', 'Team Initials', 'Player Name','Event'])\n",
    "\n",
    "world_cup_matches = pd.read_csv(\"../../data/input_data/world_cup_matches.csv\",\n",
    "                            usecols=['MatchID', 'Year', 'Datetime', 'Stadium', 'City', 'Home Team Name','Home Team Goals', 'Away Team Goals', 'Away Team Name',\n",
    "                                    'Attendance', 'Home Team Initials', 'Away Team Initials'])\n",
    "\n",
    "world_cup_countries = pd.read_csv(\"../../data/input_data/fifa_countries_2006.csv\",\n",
    "                            usecols=['Position', 'Team'])\n",
    "\n",
    "world_cup_players.columns = [convert_to_snake_case(col) for col in world_cup_players.columns]\n",
    "world_cup_matches.columns = [convert_to_snake_case(col) for col in world_cup_matches.columns]\n",
    "world_cup_countries.columns = [convert_to_snake_case(col) for col in world_cup_countries.columns]\n",
    "lower_all_object_columns_of_df(world_cup_players)\n",
    "lower_all_object_columns_of_df(world_cup_matches)\n",
    "lower_all_object_columns_of_df(world_cup_countries)"
   ]
  },
  {
   "cell_type": "code",
   "execution_count": 277,
   "id": "cd01f6fc-7f0d-44a9-b28e-828be2399869",
   "metadata": {},
   "outputs": [
    {
     "name": "stdout",
     "output_type": "stream",
     "text": [
      "<class 'pandas.core.frame.DataFrame'>\n",
      "RangeIndex: 32 entries, 0 to 31\n",
      "Data columns (total 2 columns):\n",
      " #   Column    Non-Null Count  Dtype \n",
      "---  ------    --------------  ----- \n",
      " 0   position  32 non-null     int64 \n",
      " 1   team      32 non-null     object\n",
      "dtypes: int64(1), object(1)\n",
      "memory usage: 644.0+ bytes\n"
     ]
    }
   ],
   "source": [
    "world_cup_countries.info()"
   ]
  },
  {
   "cell_type": "code",
   "execution_count": 278,
   "id": "0fe2f58f-8d5e-42b3-a8a5-ea0c7f42b96b",
   "metadata": {},
   "outputs": [
    {
     "name": "stdout",
     "output_type": "stream",
     "text": [
      "<class 'pandas.core.frame.DataFrame'>\n",
      "RangeIndex: 37784 entries, 0 to 37783\n",
      "Data columns (total 4 columns):\n",
      " #   Column         Non-Null Count  Dtype \n",
      "---  ------         --------------  ----- \n",
      " 0   match_id       37784 non-null  int64 \n",
      " 1   team_initials  37784 non-null  object\n",
      " 2   player_name    37784 non-null  object\n",
      " 3   event          9069 non-null   object\n",
      "dtypes: int64(1), object(3)\n",
      "memory usage: 1.2+ MB\n"
     ]
    }
   ],
   "source": [
    "world_cup_players.info()"
   ]
  },
  {
   "cell_type": "code",
   "execution_count": 279,
   "id": "64726ffd-6505-4936-8ef0-58122336b872",
   "metadata": {},
   "outputs": [
    {
     "name": "stdout",
     "output_type": "stream",
     "text": [
      "<class 'pandas.core.frame.DataFrame'>\n",
      "RangeIndex: 852 entries, 0 to 851\n",
      "Data columns (total 12 columns):\n",
      " #   Column              Non-Null Count  Dtype  \n",
      "---  ------              --------------  -----  \n",
      " 0   year                852 non-null    int64  \n",
      " 1   datetime            852 non-null    object \n",
      " 2   stadium             852 non-null    object \n",
      " 3   city                852 non-null    object \n",
      " 4   home_team_name      852 non-null    object \n",
      " 5   home_team_goals     852 non-null    int64  \n",
      " 6   away_team_goals     852 non-null    int64  \n",
      " 7   away_team_name      852 non-null    object \n",
      " 8   attendance          850 non-null    float64\n",
      " 9   match_id            852 non-null    int64  \n",
      " 10  home_team_initials  852 non-null    object \n",
      " 11  away_team_initials  852 non-null    object \n",
      "dtypes: float64(1), int64(4), object(7)\n",
      "memory usage: 80.0+ KB\n"
     ]
    }
   ],
   "source": [
    "world_cup_matches.info()"
   ]
  },
  {
   "cell_type": "markdown",
   "id": "fe7a6118-b0d9-4a8d-8325-b95fb8557bdb",
   "metadata": {},
   "source": [
    "## Prepare Data and create Tables"
   ]
  },
  {
   "cell_type": "code",
   "execution_count": 280,
   "id": "a71ec328-001f-4bf2-8909-b1a7ff80af51",
   "metadata": {},
   "outputs": [],
   "source": [
    "# Prepare and create TeamDIM\n",
    "world_cup_countries = world_cup_countries.rename(columns={'position': 'rank'})\n",
    "world_cup_countries['team_id'] = range(1, len(world_cup_countries) + 1)"
   ]
  },
  {
   "cell_type": "code",
   "execution_count": 281,
   "id": "416d9d76-bb7b-4b91-b538-5357d19ad0ea",
   "metadata": {},
   "outputs": [
    {
     "name": "stdout",
     "output_type": "stream",
     "text": [
      "<class 'pandas.core.frame.DataFrame'>\n",
      "Index: 2943 entries, 28218 to 31160\n",
      "Data columns (total 15 columns):\n",
      " #   Column              Non-Null Count  Dtype  \n",
      "---  ------              --------------  -----  \n",
      " 0   year                2943 non-null   int64  \n",
      " 1   datetime            2943 non-null   object \n",
      " 2   stadium             2943 non-null   object \n",
      " 3   city                2943 non-null   object \n",
      " 4   home_team_name      2943 non-null   object \n",
      " 5   home_team_goals     2943 non-null   int64  \n",
      " 6   away_team_goals     2943 non-null   int64  \n",
      " 7   away_team_name      2943 non-null   object \n",
      " 8   attendance          2943 non-null   float64\n",
      " 9   match_id            2943 non-null   int64  \n",
      " 10  home_team_initials  2943 non-null   object \n",
      " 11  away_team_initials  2943 non-null   object \n",
      " 12  team_initials       2943 non-null   object \n",
      " 13  player_name         2943 non-null   object \n",
      " 14  event               1023 non-null   object \n",
      "dtypes: float64(1), int64(4), object(10)\n",
      "memory usage: 367.9+ KB\n"
     ]
    }
   ],
   "source": [
    "merged_matches_players = pd.merge(world_cup_matches, world_cup_players, on='match_id')\n",
    "merged_matches_players_2006 = merged_matches_players[merged_matches_players['year'] == 2006].copy()\n",
    "merged_matches_players_2006.info()"
   ]
  },
  {
   "cell_type": "code",
   "execution_count": 282,
   "id": "a60af36e-834b-416c-9ac2-37d044745448",
   "metadata": {},
   "outputs": [
    {
     "data": {
      "text/plain": [
       "array(['uma�a m.', 'bola�os c.', 'nu�ez v.', 'c�ceres', 'acu�a', 'ca�iza',\n",
       "       'nu�ez', 'caba�as', 'alvb�ge', 'k�llstr�m', 'allb�ck',\n",
       "       'jo�o ricardo', 'andr� macanga', 'akw�', 'sim�o', 'z� kalanga',\n",
       "       'loc�', 'lam�', 'fl�vio', 'm�rio', 'zuberb�hler', 'l�cio', 'kak�',\n",
       "       'z� roberto', 'luis�o', 'ca�izares'], dtype=object)"
      ]
     },
     "execution_count": 282,
     "metadata": {},
     "output_type": "execute_result"
    }
   ],
   "source": [
    "# get missing char players \n",
    "players_with_special_char = merged_matches_players_2006[merged_matches_players_2006['player_name'].str.contains('�')]\n",
    "players_with_special_char['player_name'].unique()"
   ]
  },
  {
   "cell_type": "code",
   "execution_count": 283,
   "id": "a0190f07-6e20-44da-b292-4d98e045bac4",
   "metadata": {
    "scrolled": true
   },
   "outputs": [],
   "source": [
    "# clean world_cup_players df and add data to\n",
    "merged_matches_players_2006 = merged_matches_players_2006.rename(columns={'team_initials': 'player_team_initials'})\n",
    "merged_matches_players_2006['player_match_id'] = range(1, len(merged_matches_players_2006) + 1)\n",
    "merged_matches_players_2006['event'] = merged_matches_players_2006['event'].fillna('')\n",
    "merged_matches_players_2006['red_cards'] = merged_matches_players_2006['event'].str.count('r')\n",
    "merged_matches_players_2006['yellow_cards'] = merged_matches_players_2006['event'].str.count(r'(?<!rs)y')\n",
    "merged_matches_players_2006['goals'] = merged_matches_players_2006['event'].str.count('g')\n",
    "merged_matches_players_2006['player_name'] = merged_matches_players_2006['player_name'].replace(['uma�a m.', 'bola�os c.', 'nu�ez v.', 'c�ceres', 'acu�a', 'ca�iza',\n",
    "       'nu�ez', 'caba�as', 'alvb�ge', 'k�llstr�m', 'allb�ck',\n",
    "       'jo�o ricardo', 'andr� macanga', 'akw�', 'sim�o', 'z� kalanga',\n",
    "       'loc�', 'lam�', 'fl�vio', 'm�rio', 'zuberb�hler', 'l�cio', 'kak�',\n",
    "       'z� roberto', 'luis�o', 'ca�izares'], ['umaña M.', 'bolaños C.', 'nuñez V.', 'céceres', 'acuña', 'cañiza',\n",
    " 'nuñez', 'cabañas', 'alvbäge', 'källström', 'allbäck',\n",
    " 'joão ricardo', 'andrè macanga', 'akwá', 'simão', 'zé kalanga',\n",
    " 'locó', 'lamá', 'flávio', 'mário', 'zuberbühler', 'lúcio', 'kaká',\n",
    " 'zé roberto', 'luisão', 'cañizares'])"
   ]
  },
  {
   "cell_type": "code",
   "execution_count": 284,
   "id": "bf6d32f7-d0a1-4377-93b5-01a41358c97a",
   "metadata": {},
   "outputs": [
    {
     "data": {
      "text/plain": [
       "array(['argentina', \"c�te d'ivoire\", 'netherlands',\n",
       "       'rn\">serbia and montenegro'], dtype=object)"
      ]
     },
     "execution_count": 284,
     "metadata": {},
     "output_type": "execute_result"
    }
   ],
   "source": [
    "# get missing char matches \n",
    "matches_with_special_char = merged_matches_players_2006[merged_matches_players_2006[['home_team_name', 'away_team_name']].apply(lambda row: row.astype(str).str.contains('�')).any(axis=1)]\n",
    "pd.Series(matches_with_special_char[['home_team_name', 'away_team_name']].values.ravel()).unique()"
   ]
  },
  {
   "cell_type": "code",
   "execution_count": 285,
   "id": "ea0acf17-03aa-4b0b-8c86-3483d50ad9e7",
   "metadata": {},
   "outputs": [],
   "source": [
    "# clean world_cup_matches df and add data to\n",
    "merged_matches_players_2006[['home_team_name', 'away_team_name']] = merged_matches_players_2006[['home_team_name', 'away_team_name']].replace('rn\">', '', regex=True)\n",
    "merged_matches_players_2006 = merged_matches_players_2006.replace(\"c�te d'ivoire\", 'ivory coast')\n",
    "merged_matches_players_2006 = merged_matches_players_2006.replace(\"korea republic\", 'south korea')\n",
    "merged_matches_players_2006 = merged_matches_players_2006.replace(\"ir iran\", 'iran')\n",
    "merged_matches_players_2006[['home_team_name', 'away_team_name']] = merged_matches_players_2006[['home_team_name', 'away_team_name']].replace('usa', 'united states')\n",
    "\n",
    "# Create a mapping between old matchids and new matchids (starting from 1)\n",
    "unique_ids = merged_matches_players_2006['match_id'].unique()\n",
    "new_ids = range(1, len(unique_ids) + 1)\n",
    "id_mapping = dict(zip(unique_ids, new_ids))\n",
    "merged_matches_players_2006['match_id'] = merged_matches_players_2006['match_id'].map(id_mapping)"
   ]
  },
  {
   "cell_type": "code",
   "execution_count": 286,
   "id": "5d4fdf4e-f742-4137-98ff-74d753bed236",
   "metadata": {},
   "outputs": [],
   "source": [
    "# add location id to main df\n",
    "locationdim = merged_matches_players_2006.copy()\n",
    "locationdim = locationdim.drop_duplicates(subset=['city', 'stadium'])\n",
    "locationdim['location_id'] = range(1, len(locationdim) + 1)\n",
    "locationdim = locationdim[['location_id', 'city', 'stadium']] \n",
    "merged_matches_players_2006 = pd.merge(merged_matches_players_2006, locationdim, on=['city', 'stadium'])"
   ]
  },
  {
   "cell_type": "code",
   "execution_count": 287,
   "id": "e238c073-08e8-446c-90aa-b4c17e9ab1e0",
   "metadata": {},
   "outputs": [],
   "source": [
    "# add player id to main df\n",
    "playerdim = merged_matches_players_2006.copy()\n",
    "# all players in our dataset have different names, Júnior changed team, Asamoah changed shirt number\n",
    "playerdim = playerdim.drop_duplicates(subset=['player_name'])\n",
    "playerdim['player_id'] = range(1, len(playerdim) + 1)\n",
    "playerdim = playerdim[['player_id', 'player_name']]\n",
    "merged_matches_players_2006 = pd.merge(merged_matches_players_2006, playerdim, on=['player_name'])"
   ]
  },
  {
   "cell_type": "code",
   "execution_count": 288,
   "id": "6e7d5112-01ac-4b18-b51b-0018552b8370",
   "metadata": {},
   "outputs": [
    {
     "name": "stdout",
     "output_type": "stream",
     "text": [
      "<class 'pandas.core.frame.DataFrame'>\n",
      "Index: 2943 entries, 0 to 2942\n",
      "Data columns (total 24 columns):\n",
      " #   Column                Non-Null Count  Dtype  \n",
      "---  ------                --------------  -----  \n",
      " 0   year                  2943 non-null   int64  \n",
      " 1   datetime              2943 non-null   object \n",
      " 2   stadium               2943 non-null   object \n",
      " 3   city                  2943 non-null   object \n",
      " 4   home_team_name        2943 non-null   object \n",
      " 5   home_team_goals       2943 non-null   int64  \n",
      " 6   away_team_goals       2943 non-null   int64  \n",
      " 7   away_team_name        2943 non-null   object \n",
      " 8   attendance            2943 non-null   float64\n",
      " 9   match_id              2943 non-null   int64  \n",
      " 10  home_team_initials    2943 non-null   object \n",
      " 11  away_team_initials    2943 non-null   object \n",
      " 12  player_team_initials  2943 non-null   object \n",
      " 13  player_name           2943 non-null   object \n",
      " 14  event                 2943 non-null   object \n",
      " 15  player_match_id       2943 non-null   int64  \n",
      " 16  red_cards             2943 non-null   int64  \n",
      " 17  yellow_cards          2943 non-null   int64  \n",
      " 18  goals                 2943 non-null   int64  \n",
      " 19  location_id           2943 non-null   int64  \n",
      " 20  player_id             2943 non-null   int64  \n",
      " 21  rank                  2943 non-null   int64  \n",
      " 22  team                  2943 non-null   object \n",
      " 23  team_id               2943 non-null   int64  \n",
      "dtypes: float64(1), int64(12), object(11)\n",
      "memory usage: 574.8+ KB\n"
     ]
    }
   ],
   "source": [
    "home_matches = merged_matches_players_2006.merge(world_cup_countries, left_on='home_team_name', right_on='team', how='inner')\n",
    "home_matches = home_matches[home_matches['home_team_initials'] == home_matches['player_team_initials']]\n",
    "away_matches = merged_matches_players_2006.merge(world_cup_countries, left_on='away_team_name', right_on='team', how='inner')\n",
    "away_matches = away_matches[away_matches['away_team_initials'] == away_matches['player_team_initials']]\n",
    "\n",
    "# create final dataframe for fact table\n",
    "merged_df = pd.concat([home_matches, away_matches])\n",
    "merged_df.info()"
   ]
  },
  {
   "cell_type": "code",
   "execution_count": 289,
   "id": "8574d768-990f-40d1-9172-08d97e33e537",
   "metadata": {},
   "outputs": [
    {
     "name": "stdout",
     "output_type": "stream",
     "text": [
      "<class 'pandas.core.frame.DataFrame'>\n",
      "Index: 32 entries, 0 to 2897\n",
      "Data columns (total 3 columns):\n",
      " #   Column  Non-Null Count  Dtype \n",
      "---  ------  --------------  ----- \n",
      " 0   id      32 non-null     int64 \n",
      " 1   team    32 non-null     object\n",
      " 2   rank    32 non-null     int64 \n",
      "dtypes: int64(2), object(1)\n",
      "memory usage: 1.0+ KB\n"
     ]
    }
   ],
   "source": [
    "# Prepare and create teamdim\n",
    "teamdim = merged_df.copy()\n",
    "teamdim = teamdim.drop_duplicates(subset='team_id')\n",
    "teamdim = teamdim.rename(columns={'team_id': 'id'})\n",
    "teamdim = teamdim[['id', 'team', 'rank']]\n",
    "teamdim.to_csv('../../data/query_data/teamdim.csv', quoting=csv.QUOTE_ALL,\n",
    "                  index=False, header=False, lineterminator='\\n')\n",
    "teamdim.info()"
   ]
  },
  {
   "cell_type": "code",
   "execution_count": 290,
   "id": "6ed18272-6237-4216-852a-0f4edb73ea42",
   "metadata": {},
   "outputs": [
    {
     "name": "stdout",
     "output_type": "stream",
     "text": [
      "<class 'pandas.core.frame.DataFrame'>\n",
      "Index: 2943 entries, 0 to 2942\n",
      "Data columns (total 4 columns):\n",
      " #   Column        Non-Null Count  Dtype\n",
      "---  ------        --------------  -----\n",
      " 0   id            2943 non-null   int64\n",
      " 1   goals         2943 non-null   int64\n",
      " 2   red_cards     2943 non-null   int64\n",
      " 3   yellow_cards  2943 non-null   int64\n",
      "dtypes: int64(4)\n",
      "memory usage: 115.0 KB\n"
     ]
    }
   ],
   "source": [
    "# Prepare and create player_match_statisticsdim\n",
    "player_match_statisticsdim = merged_df.copy()\n",
    "player_match_statisticsdim = player_match_statisticsdim.rename(columns={'player_match_id': 'id'})\n",
    "player_match_statisticsdim = player_match_statisticsdim[['id', 'goals', 'red_cards', 'yellow_cards']]\n",
    "player_match_statisticsdim.to_csv('../../data/query_data/player_matchdim.csv', quoting=csv.QUOTE_ALL,\n",
    "                  index=False, header=False, lineterminator='\\n')\n",
    "player_match_statisticsdim.info()"
   ]
  },
  {
   "cell_type": "code",
   "execution_count": 291,
   "id": "93ddd99c-f4c9-41d2-8165-06235a86ddcc",
   "metadata": {},
   "outputs": [
    {
     "name": "stdout",
     "output_type": "stream",
     "text": [
      "<class 'pandas.core.frame.DataFrame'>\n",
      "Index: 64 entries, 0 to 2897\n",
      "Data columns (total 4 columns):\n",
      " #   Column        Non-Null Count  Dtype\n",
      "---  ------        --------------  -----\n",
      " 0   id            64 non-null     int64\n",
      " 1   goals         64 non-null     int64\n",
      " 2   red_cards     64 non-null     int64\n",
      " 3   yellow_cards  64 non-null     int64\n",
      "dtypes: int64(4)\n",
      "memory usage: 2.5 KB\n"
     ]
    }
   ],
   "source": [
    "# Prepare and create matchdim\n",
    "matchdim = merged_df.copy()\n",
    "matchdim = matchdim.drop_duplicates(subset='match_id')\n",
    "matchdim = matchdim.rename(columns={'match_id': 'id'})\n",
    "matchdim = matchdim[['id', 'goals', 'red_cards', 'yellow_cards']]\n",
    "matchdim.to_csv('../../data/query_data/matchdim.csv', quoting=csv.QUOTE_ALL,\n",
    "                  index=False, header=False, lineterminator='\\n')\n",
    "matchdim.info()"
   ]
  },
  {
   "cell_type": "code",
   "execution_count": 292,
   "id": "cd1740a0-48c4-47e8-a3e4-66505f3827d1",
   "metadata": {},
   "outputs": [
    {
     "name": "stdout",
     "output_type": "stream",
     "text": [
      "<class 'pandas.core.frame.DataFrame'>\n",
      "Index: 12 entries, 0 to 1563\n",
      "Data columns (total 3 columns):\n",
      " #   Column   Non-Null Count  Dtype \n",
      "---  ------   --------------  ----- \n",
      " 0   id       12 non-null     int64 \n",
      " 1   city     12 non-null     object\n",
      " 2   stadium  12 non-null     object\n",
      "dtypes: int64(1), object(2)\n",
      "memory usage: 384.0+ bytes\n"
     ]
    }
   ],
   "source": [
    "# Prepare and create locationdim\n",
    "locationdim = merged_df.copy()\n",
    "locationdim = locationdim.drop_duplicates(subset=['location_id'])\n",
    "locationdim = locationdim.rename(columns={'location_id': 'id'})\n",
    "locationdim = locationdim[['id', 'city', 'stadium']]\n",
    "locationdim.to_csv('../../data/query_data/locationdim.csv', quoting=csv.QUOTE_ALL,\n",
    "                  index=False, header=False, lineterminator='\\n')\n",
    "locationdim.info()"
   ]
  },
  {
   "cell_type": "code",
   "execution_count": 293,
   "id": "c4d8eaa3-ab92-4dc2-9019-0e929230bcb9",
   "metadata": {},
   "outputs": [
    {
     "name": "stdout",
     "output_type": "stream",
     "text": [
      "<class 'pandas.core.frame.DataFrame'>\n",
      "Index: 736 entries, 0 to 2795\n",
      "Data columns (total 2 columns):\n",
      " #   Column       Non-Null Count  Dtype \n",
      "---  ------       --------------  ----- \n",
      " 0   id           736 non-null    int64 \n",
      " 1   player_name  736 non-null    object\n",
      "dtypes: int64(1), object(1)\n",
      "memory usage: 17.2+ KB\n"
     ]
    }
   ],
   "source": [
    "# Prepare and create playerdim\n",
    "playerdim = merged_df.copy()\n",
    "playerdim = playerdim.drop_duplicates(subset='player_id')\n",
    "playerdim = playerdim.rename(columns={'player_id': 'id'})\n",
    "playerdim = playerdim[['id', 'player_name']]\n",
    "playerdim.to_csv('../../data/query_data/playerdim.csv', quoting=csv.QUOTE_ALL,\n",
    "                  index=False, header=False, lineterminator='\\n')\n",
    "playerdim.info()"
   ]
  },
  {
   "cell_type": "code",
   "execution_count": 226,
   "id": "0ab5bb55-48cf-4a20-b126-0a6c9ae22ae3",
   "metadata": {},
   "outputs": [],
   "source": [
    "#TODO for creating the tables\n",
    "# get unique times, get highest time from timedim pyexasol tabletime\n",
    "# create full fact table"
   ]
  }
 ],
 "metadata": {
  "kernelspec": {
   "display_name": "Python 3 (ipykernel)",
   "language": "python",
   "name": "python3"
  },
  "language_info": {
   "codemirror_mode": {
    "name": "ipython",
    "version": 3
   },
   "file_extension": ".py",
   "mimetype": "text/x-python",
   "name": "python",
   "nbconvert_exporter": "python",
   "pygments_lexer": "ipython3",
   "version": "3.11.3"
  }
 },
 "nbformat": 4,
 "nbformat_minor": 5
}
