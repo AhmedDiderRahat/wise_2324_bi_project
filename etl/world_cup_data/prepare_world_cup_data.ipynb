{
 "cells": [
  {
   "cell_type": "code",
   "execution_count": 225,
   "id": "6113e5e9-3240-4b92-891c-a4bccac15cd0",
   "metadata": {},
   "outputs": [],
   "source": [
    "import numpy as np\n",
    "import pandas as pd"
   ]
  },
  {
   "cell_type": "code",
   "execution_count": 226,
   "id": "a5c40fb0-363b-41c0-b179-d080a47d0a7a",
   "metadata": {},
   "outputs": [],
   "source": [
    "def convert_to_snake_case(text):\n",
    "    text = text.strip()\n",
    "    return ''.join(['_' + s.lower() if (s.isupper() and i > 0 and text[i - 1] != ' ' and not text[i - 1].isupper()) \\\n",
    "                    else '_' if s == ' ' \\\n",
    "                    else s.lower() for i, s in enumerate(text)])"
   ]
  },
  {
   "cell_type": "code",
   "execution_count": 227,
   "id": "2dc7193c-fb89-499c-9be3-57df8279bbfc",
   "metadata": {},
   "outputs": [],
   "source": [
    "world_cup_players = pd.read_csv(\"../../data/input_data/world_cup_players.csv\",\n",
    "                            usecols=['MatchID', 'Team Initials', 'Shirt Number', 'Player Name','Event'])\n",
    "\n",
    "world_cup_matches = pd.read_csv(\"../../data/input_data/world_cup_matches.csv\",\n",
    "                            usecols=['MatchID', 'Year', 'Datetime', 'Stadium', 'City', 'Home Team Name','Home Team Goals', 'Away Team Goals', 'Away Team Name',\n",
    "                                    'Attendance', 'Home Team Initials', 'Away Team Initials'])\n",
    "\n",
    "world_cup_countries = pd.read_csv(\"../../data/input_data/fifa_countries_2006.csv\",\n",
    "                            usecols=['Position', 'Team'])\n",
    "\n",
    "world_cup_players.columns = [convert_to_snake_case(col) for col in world_cup_players.columns]\n",
    "world_cup_matches.columns = [convert_to_snake_case(col) for col in world_cup_matches.columns]\n",
    "world_cup_countries.columns = [convert_to_snake_case(col) for col in world_cup_countries.columns]"
   ]
  },
  {
   "cell_type": "code",
   "execution_count": 228,
   "id": "cd01f6fc-7f0d-44a9-b28e-828be2399869",
   "metadata": {},
   "outputs": [
    {
     "name": "stdout",
     "output_type": "stream",
     "text": [
      "<class 'pandas.core.frame.DataFrame'>\n",
      "RangeIndex: 32 entries, 0 to 31\n",
      "Data columns (total 2 columns):\n",
      " #   Column    Non-Null Count  Dtype \n",
      "---  ------    --------------  ----- \n",
      " 0   position  32 non-null     int64 \n",
      " 1   team      32 non-null     object\n",
      "dtypes: int64(1), object(1)\n",
      "memory usage: 644.0+ bytes\n"
     ]
    }
   ],
   "source": [
    "world_cup_countries.info()"
   ]
  },
  {
   "cell_type": "code",
   "execution_count": 229,
   "id": "0fe2f58f-8d5e-42b3-a8a5-ea0c7f42b96b",
   "metadata": {},
   "outputs": [
    {
     "name": "stdout",
     "output_type": "stream",
     "text": [
      "<class 'pandas.core.frame.DataFrame'>\n",
      "RangeIndex: 37784 entries, 0 to 37783\n",
      "Data columns (total 5 columns):\n",
      " #   Column         Non-Null Count  Dtype \n",
      "---  ------         --------------  ----- \n",
      " 0   match_id       37784 non-null  int64 \n",
      " 1   team_initials  37784 non-null  object\n",
      " 2   shirt_number   37784 non-null  int64 \n",
      " 3   player_name    37784 non-null  object\n",
      " 4   event          9069 non-null   object\n",
      "dtypes: int64(2), object(3)\n",
      "memory usage: 1.4+ MB\n"
     ]
    }
   ],
   "source": [
    "world_cup_players.info()"
   ]
  },
  {
   "cell_type": "code",
   "execution_count": 230,
   "id": "64726ffd-6505-4936-8ef0-58122336b872",
   "metadata": {},
   "outputs": [
    {
     "name": "stdout",
     "output_type": "stream",
     "text": [
      "<class 'pandas.core.frame.DataFrame'>\n",
      "RangeIndex: 4572 entries, 0 to 4571\n",
      "Data columns (total 12 columns):\n",
      " #   Column              Non-Null Count  Dtype  \n",
      "---  ------              --------------  -----  \n",
      " 0   year                852 non-null    float64\n",
      " 1   datetime            852 non-null    object \n",
      " 2   stadium             852 non-null    object \n",
      " 3   city                852 non-null    object \n",
      " 4   home_team_name      852 non-null    object \n",
      " 5   home_team_goals     852 non-null    float64\n",
      " 6   away_team_goals     852 non-null    float64\n",
      " 7   away_team_name      852 non-null    object \n",
      " 8   attendance          850 non-null    float64\n",
      " 9   match_id            852 non-null    float64\n",
      " 10  home_team_initials  852 non-null    object \n",
      " 11  away_team_initials  852 non-null    object \n",
      "dtypes: float64(5), object(7)\n",
      "memory usage: 428.8+ KB\n"
     ]
    }
   ],
   "source": [
    "world_cup_matches.info()"
   ]
  },
  {
   "cell_type": "code",
   "execution_count": 231,
   "id": "5815423b-731c-406d-8d38-39ee2c3b33d9",
   "metadata": {},
   "outputs": [],
   "source": [
    "# lower all string columns\n",
    "def lower_all_object_columns_of_df(df):\n",
    "    string_columns = df.select_dtypes(include='object').columns\n",
    "    df[string_columns] = df[string_columns].apply(lambda x: x.str.lower())\n",
    "\n",
    "lower_all_object_columns_of_df(world_cup_players)\n",
    "lower_all_object_columns_of_df(world_cup_matches)\n",
    "lower_all_object_columns_of_df(world_cup_countries)"
   ]
  },
  {
   "cell_type": "code",
   "execution_count": 232,
   "id": "ac6476e7-00e5-4188-be9a-a3dd02b8b316",
   "metadata": {},
   "outputs": [
    {
     "name": "stdout",
     "output_type": "stream",
     "text": [
      "<class 'pandas.core.frame.DataFrame'>\n",
      "RangeIndex: 37784 entries, 0 to 37783\n",
      "Data columns (total 9 columns):\n",
      " #   Column          Non-Null Count  Dtype  \n",
      "---  ------          --------------  -----  \n",
      " 0   match_id        37784 non-null  int64  \n",
      " 1   team_initials   37784 non-null  object \n",
      " 2   shirt_number    37784 non-null  int64  \n",
      " 3   player_name     37784 non-null  object \n",
      " 4   event           9069 non-null   object \n",
      " 5   team _initials  37784 non-null  object \n",
      " 6   red_cards       9069 non-null   float64\n",
      " 7   yellow_cards    9069 non-null   float64\n",
      " 8   goals           9069 non-null   float64\n",
      "dtypes: float64(3), int64(2), object(4)\n",
      "memory usage: 2.6+ MB\n"
     ]
    }
   ],
   "source": [
    "world_cup_players['player_name'] = world_cup_players['player_name']\n",
    "world_cup_players['team _initials'] = world_cup_players['team_initials']\n",
    "world_cup_players['red_cards'] = world_cup_players['event'].str.count('r')\n",
    "world_cup_players['yellow_cards'] = world_cup_players['event'].str.count(r'(?<!rs)y')\n",
    "world_cup_players['goals'] = world_cup_players['event'].str.count('g')\n",
    "world_cup_players.info()"
   ]
  },
  {
   "cell_type": "code",
   "execution_count": 213,
   "id": "4c016a7a-407f-474e-973c-166e0b1d650d",
   "metadata": {},
   "outputs": [
    {
     "name": "stdout",
     "output_type": "stream",
     "text": [
      "<class 'pandas.core.frame.DataFrame'>\n",
      "Index: 2943 entries, 28218 to 31160\n",
      "Data columns (total 19 columns):\n",
      " #   Column              Non-Null Count  Dtype  \n",
      "---  ------              --------------  -----  \n",
      " 0   Year                2943 non-null   float64\n",
      " 1   Datetime            2943 non-null   object \n",
      " 2   Stadium             2943 non-null   object \n",
      " 3   City                2943 non-null   object \n",
      " 4   Home Team Name      2943 non-null   object \n",
      " 5   Home Team Goals     2943 non-null   float64\n",
      " 6   Away Team Goals     2943 non-null   float64\n",
      " 7   Away Team Name      2943 non-null   object \n",
      " 8   Attendance          2943 non-null   float64\n",
      " 9   MatchID             2943 non-null   float64\n",
      " 10  Home Team Initials  2943 non-null   object \n",
      " 11  Away Team Initials  2943 non-null   object \n",
      " 12  Team Initials       2943 non-null   object \n",
      " 13  Shirt Number        2943 non-null   int64  \n",
      " 14  Player Name         2943 non-null   object \n",
      " 15  Event               2943 non-null   object \n",
      " 16  red_cards           2943 non-null   int64  \n",
      " 17  yellow_cards        2943 non-null   int64  \n",
      " 18  goals               2943 non-null   int64  \n",
      "dtypes: float64(5), int64(4), object(10)\n",
      "memory usage: 459.8+ KB\n"
     ]
    }
   ],
   "source": [
    "merged_matches_players = pd.merge(world_cup_matches, world_cup_players, on='match_id')\n",
    "filtered_df = merged_matches_players[merged_matches_players['year'] == 2006]\n",
    "filtered_df.info()"
   ]
  },
  {
   "cell_type": "code",
   "execution_count": 211,
   "id": "233a6e32-4c83-4c44-8fb1-caa5bc6f81a6",
   "metadata": {},
   "outputs": [
    {
     "name": "stdout",
     "output_type": "stream",
     "text": [
      "<class 'pandas.core.frame.DataFrame'>\n",
      "Index: 2943 entries, 28218 to 31160\n",
      "Data columns (total 19 columns):\n",
      " #   Column              Non-Null Count  Dtype  \n",
      "---  ------              --------------  -----  \n",
      " 0   year                2943 non-null   float64\n",
      " 1   datetime            2943 non-null   object \n",
      " 2   stadium             2943 non-null   object \n",
      " 3   city                2943 non-null   object \n",
      " 4   home_team_name      2943 non-null   object \n",
      " 5   home_team_goals     2943 non-null   float64\n",
      " 6   away_team_goals     2943 non-null   float64\n",
      " 7   away_team_name      2943 non-null   object \n",
      " 8   attendance          2943 non-null   float64\n",
      " 9   match_id            2943 non-null   float64\n",
      " 10  home_team_initials  2943 non-null   object \n",
      " 11  away_team_initials  2943 non-null   object \n",
      " 12  team_initials       2943 non-null   object \n",
      " 13  shirt_number        2943 non-null   int64  \n",
      " 14  player_name         2943 non-null   object \n",
      " 15  event               2943 non-null   object \n",
      " 16  red_cards           2943 non-null   int64  \n",
      " 17  yellow_cards        2943 non-null   int64  \n",
      " 18  goals               2943 non-null   int64  \n",
      "dtypes: float64(5), int64(4), object(10)\n",
      "memory usage: 459.8+ KB\n"
     ]
    }
   ],
   "source": [
    "# merge TODO\n",
    "df = pd.merge(filtered_df, world_cup_players, on='match_id')"
   ]
  },
  {
   "cell_type": "code",
   "execution_count": null,
   "id": "b497372a-3e24-4e4f-a795-7654e3f56152",
   "metadata": {},
   "outputs": [],
   "source": []
  },
  {
   "cell_type": "code",
   "execution_count": null,
   "id": "7c953473-5331-47dc-9f22-2e6e0c8cd401",
   "metadata": {},
   "outputs": [],
   "source": []
  }
 ],
 "metadata": {
  "kernelspec": {
   "display_name": "Python 3 (ipykernel)",
   "language": "python",
   "name": "python3"
  },
  "language_info": {
   "codemirror_mode": {
    "name": "ipython",
    "version": 3
   },
   "file_extension": ".py",
   "mimetype": "text/x-python",
   "name": "python",
   "nbconvert_exporter": "python",
   "pygments_lexer": "ipython3",
   "version": "3.11.3"
  }
 },
 "nbformat": 4,
 "nbformat_minor": 5
}
