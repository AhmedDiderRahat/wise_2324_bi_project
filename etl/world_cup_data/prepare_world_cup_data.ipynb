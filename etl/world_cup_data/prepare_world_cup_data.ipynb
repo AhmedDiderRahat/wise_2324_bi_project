{
 "cells": [
  {
   "cell_type": "code",
   "execution_count": 4,
   "id": "6113e5e9-3240-4b92-891c-a4bccac15cd0",
   "metadata": {},
   "outputs": [],
   "source": [
    "import numpy as np\n",
    "import pandas as pd"
   ]
  },
  {
   "cell_type": "code",
   "execution_count": 36,
   "id": "a5c40fb0-363b-41c0-b179-d080a47d0a7a",
   "metadata": {},
   "outputs": [],
   "source": [
    "def convert_to_snake_case(text):\n",
    "    text = text.strip()\n",
    "    return ''.join(['_' + s.lower() if (s.isupper() and i > 0 and text[i - 1] != ' ' and not text[i - 1].isupper()) \\\n",
    "                    else '_' if s == ' ' \\\n",
    "                    else s.lower() for i, s in enumerate(text)])"
   ]
  },
  {
   "cell_type": "code",
   "execution_count": 37,
   "id": "2dc7193c-fb89-499c-9be3-57df8279bbfc",
   "metadata": {},
   "outputs": [],
   "source": [
    "world_cup_players = pd.read_csv(\"../../data/input_data/world_cup_players.csv\",\n",
    "                            usecols=['MatchID', 'Team Initials', 'Shirt Number', 'Player Name','Event'])\n",
    "\n",
    "world_cup_matches = pd.read_csv(\"../../data/input_data/world_cup_matches.csv\",\n",
    "                            usecols=['MatchID', 'Year', 'Datetime', 'Stadium', 'City', 'Home Team Name','Home Team Goals', 'Away Team Goals', 'Away Team Name',\n",
    "                                    'Attendance', 'Home Team Initials', 'Away Team Initials'])\n",
    "\n",
    "world_cup_countries = pd.read_csv(\"../../data/input_data/fifa_countries_2006.csv\",\n",
    "                            usecols=['Position', 'Team'])\n",
    "\n",
    "world_cup_players.columns = [convert_to_snake_case(col) for col in world_cup_players.columns]\n",
    "world_cup_matches.columns = [convert_to_snake_case(col) for col in world_cup_matches.columns]\n",
    "world_cup_countries.columns = [convert_to_snake_case(col) for col in world_cup_countries.columns]"
   ]
  },
  {
   "cell_type": "code",
   "execution_count": 38,
   "id": "cd01f6fc-7f0d-44a9-b28e-828be2399869",
   "metadata": {},
   "outputs": [
    {
     "name": "stdout",
     "output_type": "stream",
     "text": [
      "<class 'pandas.core.frame.DataFrame'>\n",
      "RangeIndex: 32 entries, 0 to 31\n",
      "Data columns (total 2 columns):\n",
      " #   Column    Non-Null Count  Dtype \n",
      "---  ------    --------------  ----- \n",
      " 0   position  32 non-null     int64 \n",
      " 1   team      32 non-null     object\n",
      "dtypes: int64(1), object(1)\n",
      "memory usage: 644.0+ bytes\n"
     ]
    }
   ],
   "source": [
    "world_cup_countries.info()"
   ]
  },
  {
   "cell_type": "code",
   "execution_count": 39,
   "id": "0fe2f58f-8d5e-42b3-a8a5-ea0c7f42b96b",
   "metadata": {},
   "outputs": [
    {
     "name": "stdout",
     "output_type": "stream",
     "text": [
      "<class 'pandas.core.frame.DataFrame'>\n",
      "RangeIndex: 37784 entries, 0 to 37783\n",
      "Data columns (total 5 columns):\n",
      " #   Column         Non-Null Count  Dtype \n",
      "---  ------         --------------  ----- \n",
      " 0   match_id       37784 non-null  int64 \n",
      " 1   team_initials  37784 non-null  object\n",
      " 2   shirt_number   37784 non-null  int64 \n",
      " 3   player_name    37784 non-null  object\n",
      " 4   event          9069 non-null   object\n",
      "dtypes: int64(2), object(3)\n",
      "memory usage: 1.4+ MB\n"
     ]
    }
   ],
   "source": [
    "world_cup_players.info()"
   ]
  },
  {
   "cell_type": "code",
   "execution_count": 40,
   "id": "64726ffd-6505-4936-8ef0-58122336b872",
   "metadata": {},
   "outputs": [
    {
     "name": "stdout",
     "output_type": "stream",
     "text": [
      "<class 'pandas.core.frame.DataFrame'>\n",
      "RangeIndex: 852 entries, 0 to 851\n",
      "Data columns (total 12 columns):\n",
      " #   Column              Non-Null Count  Dtype  \n",
      "---  ------              --------------  -----  \n",
      " 0   year                852 non-null    int64  \n",
      " 1   datetime            852 non-null    object \n",
      " 2   stadium             852 non-null    object \n",
      " 3   city                852 non-null    object \n",
      " 4   home_team_name      852 non-null    object \n",
      " 5   home_team_goals     852 non-null    int64  \n",
      " 6   away_team_goals     852 non-null    int64  \n",
      " 7   away_team_name      852 non-null    object \n",
      " 8   attendance          850 non-null    float64\n",
      " 9   match_id            852 non-null    int64  \n",
      " 10  home_team_initials  852 non-null    object \n",
      " 11  away_team_initials  852 non-null    object \n",
      "dtypes: float64(1), int64(4), object(7)\n",
      "memory usage: 80.0+ KB\n"
     ]
    }
   ],
   "source": [
    "world_cup_matches.info()"
   ]
  },
  {
   "cell_type": "code",
   "execution_count": 41,
   "id": "5815423b-731c-406d-8d38-39ee2c3b33d9",
   "metadata": {},
   "outputs": [],
   "source": [
    "# lower all string columns\n",
    "def lower_all_object_columns_of_df(df):\n",
    "    string_columns = df.select_dtypes(include='object').columns\n",
    "    df[string_columns] = df[string_columns].apply(lambda x: x.str.lower())\n",
    "\n",
    "lower_all_object_columns_of_df(world_cup_players)\n",
    "lower_all_object_columns_of_df(world_cup_matches)\n",
    "lower_all_object_columns_of_df(world_cup_countries)"
   ]
  },
  {
   "cell_type": "code",
   "execution_count": 42,
   "id": "416d9d76-bb7b-4b91-b538-5357d19ad0ea",
   "metadata": {},
   "outputs": [
    {
     "name": "stdout",
     "output_type": "stream",
     "text": [
      "<class 'pandas.core.frame.DataFrame'>\n",
      "Index: 2943 entries, 28218 to 31160\n",
      "Data columns (total 16 columns):\n",
      " #   Column              Non-Null Count  Dtype  \n",
      "---  ------              --------------  -----  \n",
      " 0   year                2943 non-null   int64  \n",
      " 1   datetime            2943 non-null   object \n",
      " 2   stadium             2943 non-null   object \n",
      " 3   city                2943 non-null   object \n",
      " 4   home_team_name      2943 non-null   object \n",
      " 5   home_team_goals     2943 non-null   int64  \n",
      " 6   away_team_goals     2943 non-null   int64  \n",
      " 7   away_team_name      2943 non-null   object \n",
      " 8   attendance          2943 non-null   float64\n",
      " 9   match_id            2943 non-null   int64  \n",
      " 10  home_team_initials  2943 non-null   object \n",
      " 11  away_team_initials  2943 non-null   object \n",
      " 12  team_initials       2943 non-null   object \n",
      " 13  shirt_number        2943 non-null   int64  \n",
      " 14  player_name         2943 non-null   object \n",
      " 15  event               1023 non-null   object \n",
      "dtypes: float64(1), int64(5), object(10)\n",
      "memory usage: 390.9+ KB\n"
     ]
    }
   ],
   "source": [
    "merged_matches_players = pd.merge(world_cup_matches, world_cup_players, on='match_id')\n",
    "merged_matches_players_2006 = merged_matches_players[merged_matches_players['year'] == 2006]\n",
    "merged_matches_players_2006.info()"
   ]
  },
  {
   "cell_type": "code",
   "execution_count": 43,
   "id": "a60af36e-834b-416c-9ac2-37d044745448",
   "metadata": {},
   "outputs": [
    {
     "data": {
      "text/plain": [
       "array(['uma�a m.', 'bola�os c.', 'nu�ez v.', 'c�ceres', 'acu�a', 'ca�iza',\n",
       "       'nu�ez', 'caba�as', 'alvb�ge', 'k�llstr�m', 'allb�ck',\n",
       "       'jo�o ricardo', 'andr� macanga', 'akw�', 'sim�o', 'z� kalanga',\n",
       "       'loc�', 'lam�', 'fl�vio', 'm�rio', 'zuberb�hler', 'l�cio', 'kak�',\n",
       "       'z� roberto', 'luis�o', 'ca�izares'], dtype=object)"
      ]
     },
     "execution_count": 43,
     "metadata": {},
     "output_type": "execute_result"
    }
   ],
   "source": [
    "# get missing char players \n",
    "players_with_special_char = merged_matches_players_2006[merged_matches_players_2006['player_name'].str.contains('�')]\n",
    "players_with_special_char['player_name'].unique()"
   ]
  },
  {
   "cell_type": "code",
   "execution_count": 44,
   "id": "a0190f07-6e20-44da-b292-4d98e045bac4",
   "metadata": {
    "scrolled": true
   },
   "outputs": [
    {
     "name": "stdout",
     "output_type": "stream",
     "text": [
      "<class 'pandas.core.frame.DataFrame'>\n",
      "Index: 2943 entries, 28218 to 31160\n",
      "Data columns (total 19 columns):\n",
      " #   Column                Non-Null Count  Dtype  \n",
      "---  ------                --------------  -----  \n",
      " 0   year                  2943 non-null   int64  \n",
      " 1   datetime              2943 non-null   object \n",
      " 2   stadium               2943 non-null   object \n",
      " 3   city                  2943 non-null   object \n",
      " 4   home_team_name        2943 non-null   object \n",
      " 5   home_team_goals       2943 non-null   int64  \n",
      " 6   away_team_goals       2943 non-null   int64  \n",
      " 7   away_team_name        2943 non-null   object \n",
      " 8   attendance            2943 non-null   float64\n",
      " 9   match_id              2943 non-null   int64  \n",
      " 10  home_team_initials    2943 non-null   object \n",
      " 11  away_team_initials    2943 non-null   object \n",
      " 12  player_team_initials  2943 non-null   object \n",
      " 13  shirt_number          2943 non-null   int64  \n",
      " 14  player_name           2943 non-null   object \n",
      " 15  event                 2943 non-null   object \n",
      " 16  red_cards             2943 non-null   int64  \n",
      " 17  yellow_cards          2943 non-null   int64  \n",
      " 18  goals                 2943 non-null   int64  \n",
      "dtypes: float64(1), int64(8), object(10)\n",
      "memory usage: 459.8+ KB\n"
     ]
    }
   ],
   "source": [
    "# clean world_cup_players df and add data to\n",
    "merged_matches_players_2006 = merged_matches_players_2006.rename(columns={'team_initials': 'player_team_initials'})\n",
    "merged_matches_players_2006['event'] = merged_matches_players_2006['event'].fillna('')\n",
    "merged_matches_players_2006['red_cards'] = merged_matches_players_2006['event'].str.count('r')\n",
    "merged_matches_players_2006['yellow_cards'] = merged_matches_players_2006['event'].str.count(r'(?<!rs)y')\n",
    "merged_matches_players_2006['goals'] = merged_matches_players_2006['event'].str.count('g')\n",
    "merged_matches_players_2006['player_name'] = merged_matches_players_2006['player_name'].replace(['uma�a m.', 'bola�os c.', 'nu�ez v.', 'c�ceres', 'acu�a', 'ca�iza',\n",
    "       'nu�ez', 'caba�as', 'alvb�ge', 'k�llstr�m', 'allb�ck',\n",
    "       'jo�o ricardo', 'andr� macanga', 'akw�', 'sim�o', 'z� kalanga',\n",
    "       'loc�', 'lam�', 'fl�vio', 'm�rio', 'zuberb�hler', 'l�cio', 'kak�',\n",
    "       'z� roberto', 'luis�o', 'ca�izares'], ['umaña M.', 'bolaños C.', 'nuñez V.', 'céceres', 'acuña', 'cañiza',\n",
    " 'nuñez', 'cabañas', 'alvbäge', 'källström', 'allbäck',\n",
    " 'joão ricardo', 'andrè macanga', 'akwá', 'simão', 'zé kalanga',\n",
    " 'locó', 'lamá', 'flávio', 'mário', 'zuberbühler', 'lúcio', 'kaká',\n",
    " 'zé roberto', 'luisão', 'cañizares'])\n",
    "merged_matches_players_2006.info()"
   ]
  },
  {
   "cell_type": "code",
   "execution_count": 45,
   "id": "bf6d32f7-d0a1-4377-93b5-01a41358c97a",
   "metadata": {},
   "outputs": [
    {
     "data": {
      "text/plain": [
       "array(['argentina', \"c�te d'ivoire\", 'netherlands',\n",
       "       'rn\">serbia and montenegro'], dtype=object)"
      ]
     },
     "execution_count": 45,
     "metadata": {},
     "output_type": "execute_result"
    }
   ],
   "source": [
    "# get missing char matches \n",
    "matches_with_special_char = merged_matches_players_2006[merged_matches_players_2006[['home_team_name', 'away_team_name']].apply(lambda row: row.astype(str).str.contains('�')).any(axis=1)]\n",
    "pd.Series(matches_with_special_char[['home_team_name', 'away_team_name']].values.ravel()).unique()"
   ]
  },
  {
   "cell_type": "code",
   "execution_count": 46,
   "id": "ea0acf17-03aa-4b0b-8c86-3483d50ad9e7",
   "metadata": {},
   "outputs": [],
   "source": [
    "# clean world_cup_matches df and add data to\n",
    "merged_matches_players_2006[['home_team_name', 'away_team_name']] = merged_matches_players_2006[['home_team_name', 'away_team_name']].replace('rn\">', '', regex=True)\n",
    "merged_matches_players_2006 = merged_matches_players_2006.replace(\"c�te d'ivoire\", 'ivory coast')\n",
    "merged_matches_players_2006 = merged_matches_players_2006.replace(\"korea republic\", 'south korea')\n",
    "merged_matches_players_2006 = merged_matches_players_2006.replace(\"ir iran\", 'iran')\n",
    "merged_matches_players_2006[['home_team_name', 'away_team_name']] = merged_matches_players_2006[['home_team_name', 'away_team_name']].replace('usa', 'united states')"
   ]
  },
  {
   "cell_type": "code",
   "execution_count": 48,
   "id": "6e7d5112-01ac-4b18-b51b-0018552b8370",
   "metadata": {},
   "outputs": [
    {
     "name": "stdout",
     "output_type": "stream",
     "text": [
      "<class 'pandas.core.frame.DataFrame'>\n",
      "Index: 2943 entries, 0 to 2942\n",
      "Data columns (total 21 columns):\n",
      " #   Column                Non-Null Count  Dtype  \n",
      "---  ------                --------------  -----  \n",
      " 0   year                  2943 non-null   int64  \n",
      " 1   datetime              2943 non-null   object \n",
      " 2   stadium               2943 non-null   object \n",
      " 3   city                  2943 non-null   object \n",
      " 4   home_team_name        2943 non-null   object \n",
      " 5   home_team_goals       2943 non-null   int64  \n",
      " 6   away_team_goals       2943 non-null   int64  \n",
      " 7   away_team_name        2943 non-null   object \n",
      " 8   attendance            2943 non-null   float64\n",
      " 9   match_id              2943 non-null   int64  \n",
      " 10  home_team_initials    2943 non-null   object \n",
      " 11  away_team_initials    2943 non-null   object \n",
      " 12  player_team_initials  2943 non-null   object \n",
      " 13  shirt_number          2943 non-null   int64  \n",
      " 14  player_name           2943 non-null   object \n",
      " 15  event                 2943 non-null   object \n",
      " 16  red_cards             2943 non-null   int64  \n",
      " 17  yellow_cards          2943 non-null   int64  \n",
      " 18  goals                 2943 non-null   int64  \n",
      " 19  position              2943 non-null   int64  \n",
      " 20  team                  2943 non-null   object \n",
      "dtypes: float64(1), int64(9), object(11)\n",
      "memory usage: 505.8+ KB\n"
     ]
    }
   ],
   "source": [
    "home_matches = merged_matches_players_2006.merge(world_cup_countries, left_on='home_team_name', right_on='team', how='inner')\n",
    "home_matches = home_matches[home_matches['home_team_initials'] == home_matches['player_team_initials']]\n",
    "away_matches = merged_matches_players_2006.merge(world_cup_countries, left_on='away_team_name', right_on='team', how='inner')\n",
    "away_matches = away_matches[away_matches['away_team_initials'] == away_matches['player_team_initials']]\n",
    "\n",
    "# create final dataframe for fact table\n",
    "merged_df = pd.concat([home_matches, away_matches])\n",
    "merged_df.info()"
   ]
  },
  {
   "cell_type": "code",
   "execution_count": null,
   "id": "228c8749-9f92-4b83-983f-981fa6fed1f5",
   "metadata": {},
   "outputs": [],
   "source": [
    "#TODO for creating the tables\n",
    "# give countries indicies = teamdim index, give players indicies = playmatchdim index -> can be created\n",
    "# \n",
    "# select unique match dims, give match_id new values starting from 1, get matchdim\n",
    "# get unique locations, create location indicies location = locationdim\n",
    "# get unique players, create player indicies\n",
    "# make pyexasol connection to database and add tables "
   ]
  },
  {
   "cell_type": "code",
   "execution_count": null,
   "id": "6ed18272-6237-4216-852a-0f4edb73ea42",
   "metadata": {},
   "outputs": [],
   "source": []
  }
 ],
 "metadata": {
  "kernelspec": {
   "display_name": "Python 3 (ipykernel)",
   "language": "python",
   "name": "python3"
  },
  "language_info": {
   "codemirror_mode": {
    "name": "ipython",
    "version": 3
   },
   "file_extension": ".py",
   "mimetype": "text/x-python",
   "name": "python",
   "nbconvert_exporter": "python",
   "pygments_lexer": "ipython3",
   "version": "3.11.3"
  }
 },
 "nbformat": 4,
 "nbformat_minor": 5
}
