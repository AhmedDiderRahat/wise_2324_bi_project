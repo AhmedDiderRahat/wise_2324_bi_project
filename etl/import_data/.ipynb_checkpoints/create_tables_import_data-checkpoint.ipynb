{
 "cells": [
  {
   "cell_type": "markdown",
   "id": "e9454dac-260e-4361-8172-21fdfada8f7d",
   "metadata": {},
   "source": [
    "# Import all data from csv files"
   ]
  },
  {
   "cell_type": "code",
   "execution_count": 2,
   "id": "4aa65bbc-bc37-4ce9-a58f-9110abd8c93c",
   "metadata": {},
   "outputs": [
    {
     "ename": "ExaConnectionFailedError",
     "evalue": "\n(\n    message     =>  Could not connect to Exasol: timed out\n    dsn         =>  192.168.56.101:8563\n    user        =>  sys\n    schema      =>  \n    session_id  =>  \n)\n",
     "output_type": "error",
     "traceback": [
      "\u001b[1;31m---------------------------------------------------------------------------\u001b[0m",
      "\u001b[1;31mTimeoutError\u001b[0m                              Traceback (most recent call last)",
      "File \u001b[1;32mC:\\anaconda\\Lib\\site-packages\\pyexasol\\connection.py:667\u001b[0m, in \u001b[0;36mExaConnection._init_ws\u001b[1;34m(self)\u001b[0m\n\u001b[0;32m    666\u001b[0m \u001b[38;5;28;01mtry\u001b[39;00m:\n\u001b[1;32m--> 667\u001b[0m     \u001b[38;5;28mself\u001b[39m\u001b[38;5;241m.\u001b[39m_ws \u001b[38;5;241m=\u001b[39m websocket\u001b[38;5;241m.\u001b[39mcreate_connection(\u001b[38;5;124mf\u001b[39m\u001b[38;5;124m'\u001b[39m\u001b[38;5;132;01m{\u001b[39;00mws_prefix\u001b[38;5;132;01m}\u001b[39;00m\u001b[38;5;132;01m{\u001b[39;00mipaddr\u001b[38;5;132;01m}\u001b[39;00m\u001b[38;5;124m:\u001b[39m\u001b[38;5;132;01m{\u001b[39;00mport\u001b[38;5;132;01m}\u001b[39;00m\u001b[38;5;124m'\u001b[39m, \u001b[38;5;241m*\u001b[39m\u001b[38;5;241m*\u001b[39mws_options)\n\u001b[0;32m    668\u001b[0m \u001b[38;5;28;01mexcept\u001b[39;00m \u001b[38;5;167;01mException\u001b[39;00m \u001b[38;5;28;01mas\u001b[39;00m e:\n",
      "File \u001b[1;32mC:\\anaconda\\Lib\\site-packages\\websocket\\_core.py:610\u001b[0m, in \u001b[0;36mcreate_connection\u001b[1;34m(url, timeout, class_, **options)\u001b[0m\n\u001b[0;32m    609\u001b[0m websock\u001b[38;5;241m.\u001b[39msettimeout(timeout \u001b[38;5;28;01mif\u001b[39;00m timeout \u001b[38;5;129;01mis\u001b[39;00m \u001b[38;5;129;01mnot\u001b[39;00m \u001b[38;5;28;01mNone\u001b[39;00m \u001b[38;5;28;01melse\u001b[39;00m getdefaulttimeout())\n\u001b[1;32m--> 610\u001b[0m websock\u001b[38;5;241m.\u001b[39mconnect(url, \u001b[38;5;241m*\u001b[39m\u001b[38;5;241m*\u001b[39moptions)\n\u001b[0;32m    611\u001b[0m \u001b[38;5;28;01mreturn\u001b[39;00m websock\n",
      "File \u001b[1;32mC:\\anaconda\\Lib\\site-packages\\websocket\\_core.py:251\u001b[0m, in \u001b[0;36mWebSocket.connect\u001b[1;34m(self, url, **options)\u001b[0m\n\u001b[0;32m    250\u001b[0m \u001b[38;5;28mself\u001b[39m\u001b[38;5;241m.\u001b[39msock_opt\u001b[38;5;241m.\u001b[39mtimeout \u001b[38;5;241m=\u001b[39m options\u001b[38;5;241m.\u001b[39mget(\u001b[38;5;124m'\u001b[39m\u001b[38;5;124mtimeout\u001b[39m\u001b[38;5;124m'\u001b[39m, \u001b[38;5;28mself\u001b[39m\u001b[38;5;241m.\u001b[39msock_opt\u001b[38;5;241m.\u001b[39mtimeout)\n\u001b[1;32m--> 251\u001b[0m \u001b[38;5;28mself\u001b[39m\u001b[38;5;241m.\u001b[39msock, addrs \u001b[38;5;241m=\u001b[39m connect(url, \u001b[38;5;28mself\u001b[39m\u001b[38;5;241m.\u001b[39msock_opt, proxy_info(\u001b[38;5;241m*\u001b[39m\u001b[38;5;241m*\u001b[39moptions),\n\u001b[0;32m    252\u001b[0m                            options\u001b[38;5;241m.\u001b[39mpop(\u001b[38;5;124m'\u001b[39m\u001b[38;5;124msocket\u001b[39m\u001b[38;5;124m'\u001b[39m, \u001b[38;5;28;01mNone\u001b[39;00m))\n\u001b[0;32m    254\u001b[0m \u001b[38;5;28;01mtry\u001b[39;00m:\n",
      "File \u001b[1;32mC:\\anaconda\\Lib\\site-packages\\websocket\\_http.py:129\u001b[0m, in \u001b[0;36mconnect\u001b[1;34m(url, options, proxy, socket)\u001b[0m\n\u001b[0;32m    128\u001b[0m \u001b[38;5;28;01mtry\u001b[39;00m:\n\u001b[1;32m--> 129\u001b[0m     sock \u001b[38;5;241m=\u001b[39m _open_socket(addrinfo_list, options\u001b[38;5;241m.\u001b[39msockopt, options\u001b[38;5;241m.\u001b[39mtimeout)\n\u001b[0;32m    130\u001b[0m     \u001b[38;5;28;01mif\u001b[39;00m need_tunnel:\n",
      "File \u001b[1;32mC:\\anaconda\\Lib\\site-packages\\websocket\\_http.py:196\u001b[0m, in \u001b[0;36m_open_socket\u001b[1;34m(addrinfo_list, sockopt, timeout)\u001b[0m\n\u001b[0;32m    195\u001b[0m     \u001b[38;5;28;01melse\u001b[39;00m:\n\u001b[1;32m--> 196\u001b[0m         \u001b[38;5;28;01mraise\u001b[39;00m error\n\u001b[0;32m    197\u001b[0m \u001b[38;5;28;01melse\u001b[39;00m:\n",
      "File \u001b[1;32mC:\\anaconda\\Lib\\site-packages\\websocket\\_http.py:184\u001b[0m, in \u001b[0;36m_open_socket\u001b[1;34m(addrinfo_list, sockopt, timeout)\u001b[0m\n\u001b[0;32m    183\u001b[0m \u001b[38;5;28;01mtry\u001b[39;00m:\n\u001b[1;32m--> 184\u001b[0m     sock\u001b[38;5;241m.\u001b[39mconnect(address)\n\u001b[0;32m    185\u001b[0m \u001b[38;5;28;01mexcept\u001b[39;00m socket\u001b[38;5;241m.\u001b[39merror \u001b[38;5;28;01mas\u001b[39;00m error:\n",
      "\u001b[1;31mTimeoutError\u001b[0m: timed out",
      "\nDuring handling of the above exception, another exception occurred:\n",
      "\u001b[1;31mExaConnectionFailedError\u001b[0m                  Traceback (most recent call last)",
      "Cell \u001b[1;32mIn[2], line 2\u001b[0m\n\u001b[0;32m      1\u001b[0m \u001b[38;5;28;01mimport\u001b[39;00m \u001b[38;5;21;01mpyexasol\u001b[39;00m\n\u001b[1;32m----> 2\u001b[0m C \u001b[38;5;241m=\u001b[39m pyexasol\u001b[38;5;241m.\u001b[39mconnect_local_config(\u001b[38;5;124m'\u001b[39m\u001b[38;5;124mstandard_exasol\u001b[39m\u001b[38;5;124m'\u001b[39m, config_path\u001b[38;5;241m=\u001b[39m\u001b[38;5;124m'\u001b[39m\u001b[38;5;124m../../.pyexasol.ini\u001b[39m\u001b[38;5;124m'\u001b[39m, protocol_version \u001b[38;5;241m=\u001b[39m \u001b[38;5;241m1\u001b[39m)\n",
      "File \u001b[1;32mC:\\anaconda\\Lib\\site-packages\\pyexasol\\__init__.py:86\u001b[0m, in \u001b[0;36mconnect_local_config\u001b[1;34m(config_section, config_path, **kwargs)\u001b[0m\n\u001b[0;32m     83\u001b[0m conf \u001b[38;5;241m=\u001b[39m ExaLocalConfig(config_path)\n\u001b[0;32m     84\u001b[0m conf_args \u001b[38;5;241m=\u001b[39m conf\u001b[38;5;241m.\u001b[39mget_args(config_section)\n\u001b[1;32m---> 86\u001b[0m \u001b[38;5;28;01mreturn\u001b[39;00m connect(\u001b[38;5;241m*\u001b[39m\u001b[38;5;241m*\u001b[39m{\u001b[38;5;241m*\u001b[39m\u001b[38;5;241m*\u001b[39mconf_args, \u001b[38;5;241m*\u001b[39m\u001b[38;5;241m*\u001b[39mkwargs})\n",
      "File \u001b[1;32mC:\\anaconda\\Lib\\site-packages\\pyexasol\\__init__.py:68\u001b[0m, in \u001b[0;36mconnect\u001b[1;34m(**kwargs)\u001b[0m\n\u001b[0;32m     63\u001b[0m \u001b[38;5;28;01mdef\u001b[39;00m \u001b[38;5;21mconnect\u001b[39m(\u001b[38;5;241m*\u001b[39m\u001b[38;5;241m*\u001b[39mkwargs) \u001b[38;5;241m-\u001b[39m\u001b[38;5;241m>\u001b[39m ExaConnection:\n\u001b[0;32m     64\u001b[0m \u001b[38;5;250m    \u001b[39m\u001b[38;5;124;03m\"\"\"\u001b[39;00m\n\u001b[0;32m     65\u001b[0m \u001b[38;5;124;03m    Constructor of connection objects\u001b[39;00m\n\u001b[0;32m     66\u001b[0m \u001b[38;5;124;03m    Please check ExaConnection object for list of arguments\u001b[39;00m\n\u001b[0;32m     67\u001b[0m \u001b[38;5;124;03m    \"\"\"\u001b[39;00m\n\u001b[1;32m---> 68\u001b[0m     \u001b[38;5;28;01mreturn\u001b[39;00m ExaConnection(\u001b[38;5;241m*\u001b[39m\u001b[38;5;241m*\u001b[39mkwargs)\n",
      "File \u001b[1;32mC:\\anaconda\\Lib\\site-packages\\pyexasol\\connection.py:184\u001b[0m, in \u001b[0;36mExaConnection.__init__\u001b[1;34m(self, dsn, user, password, schema, autocommit, snapshot_transactions, connection_timeout, socket_timeout, query_timeout, compression, encryption, fetch_dict, fetch_mapper, fetch_size_bytes, lower_ident, quote_ident, json_lib, verbose_error, debug, debug_logdir, udf_output_bind_address, udf_output_connect_address, udf_output_dir, http_proxy, client_name, client_version, client_os_username, protocol_version, websocket_sslopt, access_token, refresh_token)\u001b[0m\n\u001b[0;32m    181\u001b[0m \u001b[38;5;28mself\u001b[39m\u001b[38;5;241m.\u001b[39m_init_meta()\n\u001b[0;32m    183\u001b[0m \u001b[38;5;28mself\u001b[39m\u001b[38;5;241m.\u001b[39m_init_logger()\n\u001b[1;32m--> 184\u001b[0m \u001b[38;5;28mself\u001b[39m\u001b[38;5;241m.\u001b[39m_init_ws()\n\u001b[0;32m    186\u001b[0m \u001b[38;5;28mself\u001b[39m\u001b[38;5;241m.\u001b[39m_login()\n\u001b[0;32m    187\u001b[0m \u001b[38;5;28mself\u001b[39m\u001b[38;5;241m.\u001b[39mget_attr()\n",
      "File \u001b[1;32mC:\\anaconda\\Lib\\site-packages\\pyexasol\\connection.py:674\u001b[0m, in \u001b[0;36mExaConnection._init_ws\u001b[1;34m(self)\u001b[0m\n\u001b[0;32m    671\u001b[0m     failed_attempts \u001b[38;5;241m+\u001b[39m\u001b[38;5;241m=\u001b[39m \u001b[38;5;241m1\u001b[39m\n\u001b[0;32m    673\u001b[0m     \u001b[38;5;28;01mif\u001b[39;00m failed_attempts \u001b[38;5;241m==\u001b[39m \u001b[38;5;28mlen\u001b[39m(dsn_items):\n\u001b[1;32m--> 674\u001b[0m         \u001b[38;5;28;01mraise\u001b[39;00m ExaConnectionFailedError(\u001b[38;5;28mself\u001b[39m, \u001b[38;5;124m'\u001b[39m\u001b[38;5;124mCould not connect to Exasol: \u001b[39m\u001b[38;5;124m'\u001b[39m \u001b[38;5;241m+\u001b[39m \u001b[38;5;28mstr\u001b[39m(e))\n\u001b[0;32m    675\u001b[0m \u001b[38;5;28;01melse\u001b[39;00m:\n\u001b[0;32m    676\u001b[0m     \u001b[38;5;28mself\u001b[39m\u001b[38;5;241m.\u001b[39m_ws\u001b[38;5;241m.\u001b[39msettimeout(\u001b[38;5;28mself\u001b[39m\u001b[38;5;241m.\u001b[39moptions[\u001b[38;5;124m'\u001b[39m\u001b[38;5;124msocket_timeout\u001b[39m\u001b[38;5;124m'\u001b[39m])\n",
      "\u001b[1;31mExaConnectionFailedError\u001b[0m: \n(\n    message     =>  Could not connect to Exasol: timed out\n    dsn         =>  192.168.56.101:8563\n    user        =>  sys\n    schema      =>  \n    session_id  =>  \n)\n"
     ]
    }
   ],
   "source": [
    "import pyexasol\n",
    "C = pyexasol.connect_local_config('standard_exasol', config_path='../../.pyexasol.ini', protocol_version = 1)"
   ]
  },
  {
   "cell_type": "code",
   "execution_count": 23,
   "id": "6000d198-afed-4704-8f01-d130c65bfe80",
   "metadata": {},
   "outputs": [],
   "source": [
    "# alter and insert into timedim\n",
    "C.execute(\"\"\"update AOL_SCHEMA.TIMEDIM t\n",
    "            set t.\"month\" = TRIM(t.\"month\");\"\"\")\n",
    "\n",
    "# check timedim rows if already added delete old added and insert new\n",
    "C.execute(\"\"\"DELETE FROM AOL_SCHEMA.TIMEDIM\n",
    "            WHERE id > 6927038;\"\"\")\n",
    "C.import_from_file('../../data/query_data/timedim.csv', (\"AOL_SCHEMA\", \"TIMEDIM\"))"
   ]
  },
  {
   "cell_type": "code",
   "execution_count": 27,
   "id": "5210e068-6250-4cdc-977c-b8a5622f9f6c",
   "metadata": {},
   "outputs": [],
   "source": [
    "# create world cup search terms querydim view\n",
    "C.execute(\"\"\"CREATE OR REPLACE TABLE AOL_SCHEMA.WC_QUERYDIM (\n",
    "    ID DECIMAL(18) NOT NULL,\n",
    "    QUERY VARCHAR(5000) NOT NULL\n",
    ");\"\"\")\n",
    "C.import_from_file('../../data/query_data/wc_querydim.csv', (\"AOL_SCHEMA\", \"WC_QUERYDIM\"))"
   ]
  },
  {
   "cell_type": "code",
   "execution_count": 29,
   "id": "7bb14c08-6120-4284-b652-3cb77a205258",
   "metadata": {},
   "outputs": [],
   "source": [
    "# create player search terms querydim view\n",
    "C.execute(\"\"\"CREATE OR REPLACE TABLE AOL_SCHEMA.PLAYER_QUERYDIM (\n",
    "    QUERY VARCHAR(5000) NOT NULL,\n",
    "    ID DECIMAL(18) NOT NULL\n",
    ");\"\"\")\n",
    "C.import_from_file('../../data/query_data/player_querydim.csv', (\"AOL_SCHEMA\", \"PLAYER_QUERYDIM\"))"
   ]
  },
  {
   "cell_type": "code",
   "execution_count": 31,
   "id": "7c167912-fcf0-48d3-8f59-477e344fd012",
   "metadata": {},
   "outputs": [],
   "source": [
    "# create teamdim\n",
    "C.execute(\"\"\"CREATE OR REPLACE TABLE AOL_SCHEMA.TEAMDIM (\n",
    "    ID Decimal(18) NOT NULL Primary Key,\n",
    "    TEAM VARCHAR(256) NOT NULL,\n",
    "    Rank Decimal(18) NOT NULL\n",
    ");\"\"\")\n",
    "C.import_from_file('../../data/query_data/teamdim.csv', (\"AOL_SCHEMA\", \"TEAMDIM\"))"
   ]
  },
  {
   "cell_type": "code",
   "execution_count": 32,
   "id": "6600cc38-7ec9-4696-85fc-11e2deb252b0",
   "metadata": {},
   "outputs": [],
   "source": [
    "# create player_matchdim\n",
    "C.execute(\"\"\"CREATE OR REPLACE TABLE AOL_SCHEMA.PLAYER_MATCHDIM (\n",
    "    ID DECIMAL(18) NOT NULL Primary Key,\n",
    "    GOALS DECIMAL(18) NOT NULL,\n",
    "    RED_CARDS DECIMAL(18) NOT NULL,\n",
    "    YELLOW_CARDS DECIMAL(18) NOT NULL\n",
    ");\"\"\")\n",
    "C.import_from_file('../../data/query_data/player_matchdim.csv', (\"AOL_SCHEMA\", \"PLAYER_MATCHDIM\"))"
   ]
  },
  {
   "cell_type": "code",
   "execution_count": 34,
   "id": "cc764320-2c11-4390-97f1-5bd6c5ab3731",
   "metadata": {},
   "outputs": [],
   "source": [
    "C.execute(\"\"\"CREATE OR REPLACE TABLE AOL_SCHEMA.MATCHDIM (\n",
    "    ID DECIMAL(18) NOT NULL Primary Key,\n",
    "    HOME_TEAM_NAME VARCHAR(256) NOT NULL,\n",
    "    AWAY_TEAM_NAME VARCHAR(256) NOT NULL,\n",
    "    HOME_TEAM_GOALS DECIMAL(18) NOT NULL,\n",
    "    AWAY_TEAM_GOALS DECIMAL(18) NOT NULL,\n",
    "    ATTENDANCE DECIMAL(18) NOT NULL\n",
    ");\"\"\")\n",
    "C.import_from_file('../../data/query_data/matchdim.csv', (\"AOL_SCHEMA\", \"MATCHDIM\"))"
   ]
  },
  {
   "cell_type": "code",
   "execution_count": 35,
   "id": "816740b3-c9bb-47a6-abc2-69d87c3ef8c6",
   "metadata": {},
   "outputs": [],
   "source": [
    "# create locationdim\n",
    "C.execute(\"\"\"CREATE OR REPLACE TABLE AOL_SCHEMA.LOCATIONDIM (\n",
    "    ID DECIMAL(18) NOT NULL Primary Key,\n",
    "    CITY VARCHAR(256) NOT NULL,\n",
    "    STADIUM VARCHAR(256) NOT NULL\n",
    ");\"\"\")\n",
    "C.import_from_file('../../data/query_data/locationdim.csv', (\"AOL_SCHEMA\", \"LOCATIONDIM\"))"
   ]
  },
  {
   "cell_type": "code",
   "execution_count": 36,
   "id": "f0b95ede-96ab-4566-9bfa-94cb49d333fb",
   "metadata": {},
   "outputs": [],
   "source": [
    "# create playerdim\n",
    "C.execute(\"\"\"CREATE OR REPLACE TABLE AOL_SCHEMA.PLAYERDIM (\n",
    "    ID DECIMAL(18) NOT NULL Primary Key,\n",
    "    PLAYER_NAME VARCHAR(256) NOT NULL\n",
    ");\"\"\")\n",
    "C.import_from_file('../../data/query_data/playerdim.csv', (\"AOL_SCHEMA\", \"PLAYERDIM\"))"
   ]
  },
  {
   "cell_type": "code",
   "execution_count": 38,
   "id": "3e147a1f-47f3-4484-bfcd-6fd5ef0346bf",
   "metadata": {},
   "outputs": [],
   "source": [
    "# create teamdim\n",
    "C.execute(\"\"\"CREATE OR REPLACE TABLE AOL_SCHEMA.MATCH_FACTS (\n",
    "    MATCH_ID DECIMAL(18) NOT NULL,\n",
    "    PLAYER_MATCH_ID DECIMAL(18) NOT NULL,\n",
    "    PLAYER_ID DECIMAL(18) NOT NULL,\n",
    "    TIME_ID DECIMAL(18) NOT NULL,\n",
    "    TEAM_ID DECIMAL(18) NOT NULL,\n",
    "    LOCATION_ID DECIMAL(18) NOT NULL\n",
    ");\"\"\")\n",
    "C.import_from_file('../../data/query_data/match_facts.csv', (\"AOL_SCHEMA\", \"MATCH_FACTS\"))"
   ]
  },
  {
   "cell_type": "code",
   "execution_count": 40,
   "id": "b96a98b4-db41-482e-b848-64f1b05a4b9f",
   "metadata": {},
   "outputs": [],
   "source": [
    "C.close()"
   ]
  }
 ],
 "metadata": {
  "kernelspec": {
   "display_name": "Python 3 (ipykernel)",
   "language": "python",
   "name": "python3"
  },
  "language_info": {
   "codemirror_mode": {
    "name": "ipython",
    "version": 3
   },
   "file_extension": ".py",
   "mimetype": "text/x-python",
   "name": "python",
   "nbconvert_exporter": "python",
   "pygments_lexer": "ipython3",
   "version": "3.11.4"
  }
 },
 "nbformat": 4,
 "nbformat_minor": 5
}
